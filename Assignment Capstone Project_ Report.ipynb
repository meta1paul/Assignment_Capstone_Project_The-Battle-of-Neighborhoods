{
 "cells": [
  {
   "cell_type": "markdown",
   "metadata": {},
   "source": [
    "# Capstone Project - The Battle of Neighborhoods \n",
    "## 'The Best Walkable Spots for Students in NY'\n",
    "\n",
    "### Final Report"
   ]
  },
  {
   "cell_type": "markdown",
   "metadata": {},
   "source": [
    "## Introduction\n",
    "\n",
    "In this first week, you have to clearly define a problem or an idea of your choice, where you would need to leverage the Foursquare location data to solve or execute. Remember that data science problems always target an audience and are meant to help a group of stakeholders solve a problem, so make sure that you explicitly describe your audience and why they would care about your problem.\n",
    "\n",
    "This submission will eventually become your Introduction/Business Problem section in your final report. So I recommend that you push the report (having your Introduction/Business Problem section only for now) to your Github repository and submit a link to it."
   ]
  },
  {
   "cell_type": "markdown",
   "metadata": {},
   "source": [
    "## Table of Contents\n",
    "\n",
    "__1.Introduction - Business Problem Definition.__\n",
    "\n",
    "__2. Data__\n",
    "\n",
    "__3. Methodology__\n",
    "\n",
    "__4. Analysis__\n",
    "\n",
    "__4. Results__\n",
    "\n",
    "__5. Discussion__\n",
    "\n",
    "__6. Conclusion__"
   ]
  },
  {
   "cell_type": "markdown",
   "metadata": {},
   "source": [
    "# Introduction - Business Problem Definition"
   ]
  },
  {
   "cell_type": "markdown",
   "metadata": {},
   "source": [
    "## 1. Study Context"
   ]
  },
  {
   "cell_type": "markdown",
   "metadata": {},
   "source": [
    "There a category of students or young adults that would like to settle temporarily in New York City. This type of people has often low financial resources. They cannot afford to own and maintain a car with all the expenses that it can generate. Sometimes it is also because they want to adopt a greener transportation style to reduce their carbon footprint.\n",
    "\n",
    "To help for their daily expenses or to supplement their basic income, they often hold jobs in the restaurants, shops, bars, etc. Moreover, as generally with young people, they also like to frequent the lively neighborhoods to meet their friends or other people. \n",
    "\n",
    "We can therefore predict that this category of population will be interested in looking for rental housing in lively areas allowing both leisure outings and opportunities to find odd jobs.\n",
    "\n",
    "Of course, since they do not have a personal vehicle because lacking financial means or by the choice of ecological convictions, these students or young people will certainly look for renting nearby rooms or studios in neighborhoods as close as possible to places where they can easily find extra work.\n",
    "\n",
    "A criterion of choice will be the proximity of the place of residence to these employment zones, having the possibility of getting there as quickly as possible first by walking as a pedestrian then using a skate-board, a bicycle or by public transport such as bus lines or metro etc ..."
   ]
  },
  {
   "cell_type": "markdown",
   "metadata": {},
   "source": [
    "## 2. Problem Statement"
   ]
  },
  {
   "cell_type": "markdown",
   "metadata": {},
   "source": [
    "\n",
    "As a Data Scientist, I would like to study the neighborhoods of New York and make a classification according to the number of places of shopping, outings and leisure and the accessibility of these places by walking (in a first study).\n",
    "\n",
    "Later, we can refine by considering also other transportation means such as bike or public transport such as buses and metro.\n",
    "\n",
    "Finally to be closer to the reality of these low-income people, we can add the rental price criterion (average in the neighborhood) to study the influence on the classification.\n",
    "\n",
    "Nota: in this case study, the important factor of \"income required per tenant\" to be able to rent a room has not not been considered. Of course, it must be taken into account in a real life."
   ]
  },
  {
   "cell_type": "markdown",
   "metadata": {},
   "source": [
    "## 3. Target Audience"
   ]
  },
  {
   "cell_type": "markdown",
   "metadata": {},
   "source": [
    "Who could be interested in this problem ?\n",
    "\n",
    "At least we can list the following target populations :\n",
    "\n",
    "1. Students that would like to find a job close to the place of residence\n",
    "\n",
    "2. People who do not own any personal vehicle because they have either ecological convictions or low income but who love lively places with lots of restaurants, cafes, shops, cultural places etc. So those who are interested in living in a place with a high level walk-ability index.\n",
    "\n",
    "3. Companies that work around search engines for rental accommodation agencies\n",
    "\n",
    "4. Reception centers and help for students "
   ]
  },
  {
   "cell_type": "markdown",
   "metadata": {},
   "source": [
    "# Data Set Definition"
   ]
  },
  {
   "cell_type": "markdown",
   "metadata": {},
   "source": [
    "## 1. Data Sources"
   ]
  },
  {
   "cell_type": "markdown",
   "metadata": {},
   "source": [
    "A summary of needed data can be established from the problem definition above. \n",
    "\n",
    "As an output of the solution, we would like to provide a global picture of the New York places indicating where it is possible to rent a room or studio and with a score calculated based on the proximity of restaurants, bars, Coffee Shops or other businesses fully accessible to pedestrians. Something like a heat-map of places in New York City.\n",
    "\n",
    "So we will need to retrieve the following information:\n",
    "\n",
    "1. The list and localisation of New York neigborhoods\n",
    "2. The list and localisation of places such as coffee shop, restaurants, miscellaneous shop, theaters etc around a specific place in New York \n",
    "3. The list of places with their walkability measure\n",
    "4. The list of places with their average rental price\n",
    "\n",
    "In the next sections, each data set is described given the origin, the type of data and the way it will be used to solve the problem we defined above."
   ]
  },
  {
   "cell_type": "markdown",
   "metadata": {},
   "source": [
    "###  a. New York neigborhoods"
   ]
  },
  {
   "cell_type": "markdown",
   "metadata": {},
   "source": [
    "We follow the same process as given in the labs _\"Segmenting and Clustering Neighborhoods in New York City\"_. \n",
    "\n",
    "To remember what we learned, we know now that New York has a total of 5 boroughs and 306 neighborhoods. In order to segment the neighborhoods and explore them, we will essentially need a dataset that contains the 5 boroughs and the neighborhoods that exist in each borough as well as the the latitude and longitude coordinates of each neighborhood.\n",
    "\n",
    "Luckily, this dataset exists for free on the web.  We will use the dataset at the link we have been given : https://geo.nyu.edu/catalog/nyu_2451_34572.\n",
    "\n",
    "The Web page displays the following information : \n",
    "\n",
    "***\n",
    "> _2014 New York City Neighborhood Names_\n",
    "\n",
    "> _Description:_\n",
    ">> _This New York City Neighborhood Names point file was created as a guide to New York City’s neighborhoods\n",
    ">> that appear on the web resource, “New York: A City of Neighborhoods.” Best estimates of label centroids were \n",
    ">> established at a 1:1,000 scale, but are ideally viewed at a 1:50,000 scale._\n",
    "\n",
    "> __Publisher: New York (City). Department of City Planning_\n",
    "\n",
    "> _Collection: Bytes of the Big Apple_\n",
    "\n",
    "> _Place(s): New York, New York, United States_\n",
    "\n",
    "> _Subject(s): Neighborhoods, Neighborhood planning, and Communities_\n",
    "\n",
    "> _Format(s): Shapefile_\n",
    "\n",
    "> _Year: 2014__\n",
    "\n",
    "> _Held by: NYU_\n",
    "\n",
    "> _Preservation record: http://hdl.handle.net/2451/34572_\n",
    "***\n",
    "\n",
    "On this Web page, we select the format of the file we want to generate. Selecting _'json'_ format, the following message is displayed indicating that the resulting formatted file is ready to be downloaded locally :\n",
    ">> _'Your file nyu-2451-34572-geojson.json is ready for download'_\n",
    "\n",
    "After that, we are able to parse the json features array of 306 items to extract all the information about the neighborhoods of New York.\n",
    "\n",
    "This step leads us to build a dataframe, _**neighborhoods**_, containing the elementary data needed to solve our problem i.e. neighborhoods with location coordinates. \n",
    "\n",
    "Using pandas library, we map the json data to the _**neighborhoods**_ dataframe containing 4 columns listed below :\n",
    "\n",
    ">> _**Borough, Neighborhood, Latitude, Longitude**_"
   ]
  },
  {
   "cell_type": "markdown",
   "metadata": {},
   "source": [
    "###  b. Venues in New York Neigborhoods"
   ]
  },
  {
   "cell_type": "markdown",
   "metadata": {},
   "source": [
    "For these data, we also follow the same process as given in the labs _\"Segmenting and Clustering Neighborhoods in New York City\"_, i.e. using the _**Foursquare API**_ to explore the neighborhoods.\n",
    "\n",
    "This is a requirement of this assignment. \n",
    "\n",
    "Using Foursquare API allows to request a number of top venues that are in each neighborhood within a defined radius. A GET request to  _**Foursquare**_ looks like in python code :\n",
    "\n",
    "***\n",
    "~~~~\n",
    "# Build the url\n",
    "radius = 500\n",
    "LIMIT = 100\n",
    "\n",
    "url = 'https://api.foursquare.com/v2/venues/explore?client_id={}&client_secret={}&ll={},{}&v={}&radius={}&limit={}'.format(\n",
    "        CLIENT_ID, \n",
    "        CLIENT_SECRET,\n",
    "        neighborhood_latitude, neighborhood_longitude,\n",
    "        VERSION,\n",
    "        radius,\n",
    "        LIMIT)\n",
    "\n",
    "# make the GET request\n",
    "results = requests.get(url).json()\n",
    "~~~~ \n",
    "***\n",
    "\n",
    "After that, the 'results' data is ready to be cleaned and structured it into a pandas dataframe containing at least the needed columns and rows such as displayed below :\n",
    "***\n",
    "~~~~\n",
    " \tname                    \tcategories          \tlat     \tlng\n",
    "0 \tArturo's                \tPizza Place        \t40.874412 \t-73.910271\n",
    "1 \tBikram Yoga             \tYoga Studio        \t40.876844 \t-73.906204\n",
    "2 \tTibbett Diner           \tDiner              \t40.880404 \t-73.908937\n",
    "3 \tStarbucks               \tCoffee Shop        \t40.877531 \t-73.905582\n",
    "4 \tLand & Sea Restaurant\tSeafood Restaurant    \t40.877885 \t-73.905873\n",
    "~~~~\n",
    "***\n",
    "\n",
    "This is how Foursquare API is used to build this data set that will be combined for each neighborhood to identify venues around places of interest.\n",
    "\n",
    "This will contribute to rank each places with the number of available venues."
   ]
  },
  {
   "cell_type": "markdown",
   "metadata": {},
   "source": [
    "###  c. Walkability Measures of New York Places"
   ]
  },
  {
   "cell_type": "markdown",
   "metadata": {},
   "source": [
    "These measures will help to define the places in New York neighborhoods that are the most suitable for people who do not own a vehicle and want to travel only on foot or by public transportation.\n",
    " \n",
    "Fortunately, like _**Foursquare**_, there is also a Web Site _**\"Walk Score\"**_ (https://www.walkscore.com/) that provides an API to compute a score for each place identified by location coordinates.\n",
    "\n",
    "As displayed on the Web page, a :\n",
    "> _\"Walk Score is a number between 0 and 100 that measures the walkability of any address.\"_\n",
    "\n",
    "And using the following methodology :\n",
    "> _\"Walk Score measures the walkability of a location based on its distance from amenities, density of population, block length and pedestrian friendliness. The annual ranking identifies the most walkable U.S. cities with populations of more than 300,000.\"_ \n",
    "\n",
    "This leads to defining a 5-level evaluation scale:\n",
    "\n",
    "***\n",
    "> <img src=\"WalkScoreIndex.PNG\" width=\"400\"/>\n",
    "***\n",
    "\n",
    "As with _**Foursquare**_, a user can register to get _wsapikey_ to use API calls to retrieve the score for a place.\n",
    "\n",
    "An example is given below :\n",
    "\n",
    "***\n",
    "~~~~\n",
    "# Build the url\n",
    "url = 'http://api.walkscore.com/score?format=json&\n",
    "        address=1119%8th%20Avenue%20Seattle%20WA%2098101&lat=47.6085&\n",
    "        lon=-122.3295&transit=1&bike=1&wsapikey=<YOUR-WSAPIKEY>)\n",
    "\n",
    "# make the GET request\n",
    "results = requests.get(url).json()\n",
    "~~~~ \n",
    "***\n",
    "\n",
    "And the **The Walk Score** API will return the following:\n",
    "\n",
    "***\n",
    "~~~~\n",
    "{\n",
    "\"status\": 1\n",
    ", \"walkscore\": 98\n",
    ", \"description\": \"Walker's Paradise\"\n",
    ", \"updated\": \"2016-11-17 04:40:31.218250\"\n",
    ", \"logo_url\": \"https://cdn.walk.sc/images/api-logo.png\"\n",
    ", \"more_info_icon\": \"https://cdn.walk.sc/images/api-more-info.gif\"\n",
    ", \"more_info_link\": \"https://www.walkscore.com/how-it-works/\"\n",
    ", \"ws_link\":\n",
    "\"https://www.walkscore.com/score/1119-8th-Avenue-Seattle-WA-98101/lat=47.6085/lng=-122.3295/?utm_source=walkscore.com&utm_medium=ws_api&utm_campaign=ws_api\"\n",
    ", \"help_link\": \"https://www.walkscore.com/how-it-works/\"\n",
    ", \"snapped_lat\": 47.6085\n",
    ", \"snapped_lon\": -122.3295\n",
    ", \"transit\" : {\"score\": 100, \"description\": \"Rider's Paradise\", \"summary\": \"115 nearby routes: 103 bus, 6 rail, 6 other\"}\n",
    ", \"bike\" : {\"score\": 68, \"description\": \"Bikeable\"}\n",
    "}\n",
    "~~~~\n",
    "***\n",
    "\n",
    "So it is now possible to rank each places, limit is 5,000 calls by day for a Free Version.\n"
   ]
  },
  {
   "cell_type": "markdown",
   "metadata": {},
   "source": [
    "###  d. Average Rental Price of New York Places"
   ]
  },
  {
   "cell_type": "markdown",
   "metadata": {},
   "source": [
    "These measures will help to refine choice of places in New York neighborhoods that are the most suitable for people with low incomes such as the students population.\n",
    " \n",
    "We will use the Web Site _**\"renthop\"**_ (https://www.renthop.com/) a specialized search engine that allows users to search for apartments in New York City, Boston, Chicago, and other major metropolitan ... \n",
    "\n",
    "Browsing this site, you can find this page _https://www.renthop.com/average-rent-in/new-york-city-ny_ where are displayed the _**\"Rental Stats and Trends\"**_. This is a collection of information that gives:\n",
    "\n",
    "1. *Historical Prices and Trends* : curves of the rental prices of housing by categories (studios, 1 bedroom or 2) since 3 years\n",
    "\n",
    "2. *Median Rents* : table showing prices broken by housing category and quartiles (bottom 25%, median and top 25%)\n",
    "\n",
    "3. *Average Rents by Neighborhoods* : table of average prices broken by \"Neighborhoods\" and given, by housing categories, a price and a classification of the needed budget (Cheap, Average, Pricey).\n",
    "\n",
    "A screenshot of this page is displayed below :\n",
    "\n",
    "***\n",
    ">> <img src=\"Renthop_NYC.PNG\" width=\"600\"/>\n",
    "***\n",
    "\n",
    "\n",
    "We are mainly interested by the data stored into the table *Average Rents by Neighborhoods*.\n",
    "\n",
    "To extract the average prices by neighborhoods and by housing categories, I will follow the method used in the previous assignment on the study of _\"Toronto Neighborhoods\"_ when we have extracted postal codes from a wikipedia HTML file.\n",
    "\n",
    "The steps are explained below :\n",
    "\n",
    "1. Download the HTML file at the given link : _'https://www.renthop.com/average-rent-in/new-york-city-ny'_\n",
    "\n",
    "2. Register the file locally\n",
    "\n",
    "3. Open the file and using _'BeautifulSoup'_ library, retrieve :\n",
    "> - the table with the title as displayed above *\"Average Rents by Neighborhoods\"*\n",
    "> - iterate through the next HTML elements to extract the name of the columns \n",
    "> - iterate through the next HTML elements to extract the values for each 'Neighborhood' row \n",
    "\n",
    "4. Build the _pandas Dataframe_ with the retrieved data\n",
    "\n",
    "Below, I present a piece of the HTML file to be parsed with the _'BeautifulSoup'_ library.\n",
    "\n",
    "***\n",
    "~~~~\n",
    "<table id=\"data-table\" class=\"stripe\" style=\"clear: none; margin: 0; width: 640px; border: 1px solid #bbbbbb; border-top: none;\">\n",
    "<thead>\n",
    "<th class=\"font-size-9 bold\" style=\"padding-top: 10px; padding-bottom: 10px; border-top: 1px solid #bbbbbb; border-bottom: 1px solid #bbbbbb; width: 300px; padding-left: 30px; text-align: left\">Neighborhood</th>\n",
    "<th class=\"font-size-9 bold\" style=\"padding-top: 10px; padding-bottom: 10px; border-top: 1px solid #bbbbbb; border-bottom: 1px solid #bbbbbb; width: 80px; padding-left: 30px; text-align: left\">Studio</th>\n",
    "<th class=\"font-size-9 bold\" style=\"padding-top: 10px; padding-bottom: 10px; border-top: 1px solid #bbbbbb; border-bottom: 1px solid #bbbbbb; width: 80px; padding-left: 30px; text-align: left\">1BR</th>\n",
    "<th class=\"font-size-9 bold\" style=\"padding-top: 10px; padding-bottom: 10px; border-top: 1px solid #bbbbbb; border-bottom: 1px solid #bbbbbb; width: 80px; padding-left: 30px; text-align: left\">2BR</th>\n",
    "<th class=\"font-size-9 bold\" style=\"padding-top: 10px; padding-bottom: 10px; border-top: 1px solid #bbbbbb; border-bottom: 1px solid #bbbbbb; width: 100px; padding-left: 30px; text-align: left\">Budget</th>\n",
    "</thead>\n",
    "<tr>\n",
    "<td class=\"font-size-9\" style=\"padding-bottom: 5px; padding-top: 3px; padding-left: 10px;\"><a href=\"/average-rent-in/alphabet-city/nyc\">Alphabet City</a></td>\n",
    "<td class=\"font-size-9\" style=\"padding-bottom: 5px; padding-top: 3px; padding-left: 10px;\">$2,200</td>\n",
    "<td class=\"font-size-9\" style=\"padding-bottom: 5px; padding-top: 3px; padding-left: 10px;\">$2,905</td>\n",
    "<td class=\"font-size-9\" style=\"padding-bottom: 5px; padding-top: 3px; padding-left: 10px;\">$3,500</td>\n",
    "<td class=\"font-size-9\" style=\"padding-bottom: 5px; padding-top: 3px; padding-left: 10px;\">Average</td>\n",
    "</tr>\n",
    "<tr>\n",
    "<td class=\"font-size-9\" style=\"padding-bottom: 5px; padding-top: 3px; padding-left: 10px;\"><a href=\"/average-rent-in/astoria/nyc\">Astoria</a></td>\n",
    "<td class=\"font-size-9\" style=\"padding-bottom: 5px; padding-top: 3px; padding-left: 10px;\">$1,875</td>\n",
    "<td class=\"font-size-9\" style=\"padding-bottom: 5px; padding-top: 3px; padding-left: 10px;\">$2,125</td>\n",
    "<td class=\"font-size-9\" style=\"padding-bottom: 5px; padding-top: 3px; padding-left: 10px;\">$2,400</td>\n",
    "<td class=\"font-size-9\" style=\"padding-bottom: 5px; padding-top: 3px; padding-left: 10px;\">Cheap</td>\n",
    "</tr>\n",
    "~~~~ \n",
    "***"
   ]
  },
  {
   "cell_type": "markdown",
   "metadata": {},
   "source": [
    "## 2. Data Processing"
   ]
  },
  {
   "cell_type": "markdown",
   "metadata": {},
   "source": [
    "#### a) Data Merging\n",
    "\n",
    "As already said, I have splitted the calls in several steps to get the scores for all venues the 11311 venues.\n",
    "\n",
    "I have merged all dataframes and files into one unique dataframe and file to consider the totality of the information on the venues for our analysis.\n"
   ]
  },
  {
   "cell_type": "markdown",
   "metadata": {},
   "source": [
    "#### b) Data Cleaning\n",
    "\n",
    "Now take a look at the data and see if all information are ready to be used for our analysis !!!!\n",
    "\n",
    "Clean if any missing data : adopt a strategy !\n",
    " - drop the row\n",
    " - replace the value by the same value of the surrounding venue with the same latitude and longitude\n",
    " - replace the value by the min of values of the surrounding venues\n",
    " - replace the value by the mean of values of the surroundingvenues \n",
    " - etc.\n",
    "\n",
    "So how many venues have empty walk scores (equal to -1) ?\n",
    "\n",
    "The number and identification of the venues without walk score : 32 venues without walk scores.\n",
    "\n",
    "This number represents only 32/11311 = 0,000972505 ~ 0.1%\n",
    "\n",
    "So these venues are removed before analysis.\n",
    "\n",
    "We simply dropped these rows and we got a new dataframe with (11311 - 32 =) 11279 rows.\n"
   ]
  },
  {
   "cell_type": "markdown",
   "metadata": {},
   "source": [
    "#### c) Data Processing"
   ]
  },
  {
   "cell_type": "markdown",
   "metadata": {},
   "source": [
    "Sometimes data are not in the right format, they need to be processed or aggregated or created if missing or to be more usable or informative.\n",
    "\n",
    "Some examples are given below."
   ]
  },
  {
   "cell_type": "markdown",
   "metadata": {},
   "source": [
    "######  Data rewriting\n",
    "\n",
    "- Rental amounts strings with a 'Dollar' symbol have to be formatted in normal numbers \n",
    "    - **'$4,542 -> 4542'**\n",
    " "
   ]
  },
  {
   "cell_type": "markdown",
   "metadata": {},
   "source": [
    "######  Missing Data \n",
    "\n",
    "- Missing Rental data for neighborhoods: no price values\n",
    "    - only 68 neighborhoods from the 306 neighborhoods of New York City have been retrieved from the Renthop data files. To complete the missing values for all neighborhoods, we should adopt a filling strategy.\n",
    "        - Use the the \"Median Rents\" values or Budget attribute value from the same data source to complete the missing values :\n",
    "            - 'Cheap' then use 'Bot25%' value\n",
    "            - 'Pricey' then use 'Top25%' value\n",
    "            - 'Average' then use 'Median' value\n",
    "        - Compute a ratio :\n",
    "            - Use 'Budget' attribute value\n",
    "            - find Median[1BR]\n",
    "            - define Ratio = (Average[row][1BR] / Median[1BR]) \n",
    "            - define Average[row][Studio] = Median[Studio] * Ratio\n",
    "\n",
    "\n",
    "-  Missing Neighborhoods references in Price data set\n",
    "    - After localisation, we found 7 references in rental neighborhoods without localisation coordinates. To find the missing data, we used :\n",
    "        - use Web https://www.latlong.net/convert-address-to-lat-long.html for manually retrieve coordinates for 4 of these neighborhoods.\n",
    "        - translate sectors of neighborhoods by the corresponding list of official neighborhoods and again retrieve coordinates for them."
   ]
  },
  {
   "cell_type": "markdown",
   "metadata": {},
   "source": [
    "######  Duplicated Data \n",
    "\n",
    "- Several names duplicated have been found in the neighborhoods data. Strategy can be :\n",
    "    - rename duplicates if it makes sense\n",
    "    - simply drop the duplicated name (first or last name)"
   ]
  },
  {
   "cell_type": "markdown",
   "metadata": {},
   "source": [
    "###### Data Reworking \n",
    "\n",
    "Looking at the budget with 3 values, sometimes a 1BR amount is labelled for example 'Pricey' while another higher amount is labelled 'Average'. It is not very consistent.\n",
    "\n",
    "It is why, it is more relevant to rescale this column by associating a more understandable label to the price '1BR' value.\n",
    "\n",
    "So we will rework the Budget column so that new categories will remap on this table :  \n",
    "\n",
    "|  Label    |    Inf    |  Sup  |\n",
    "|:---------:|:---------:|:-----:|\n",
    "| *Cheap*   |     0     | 2149  |\n",
    "| *Average* |    2150   | 3149  |\n",
    "| *Pricey*  |    3150   |  '>'  |\n",
    "\n",
    "\n",
    "So, a new a categorical label has been computed and associated to the registered Budget value that was out of the \"normal\" scale.   "
   ]
  },
  {
   "cell_type": "markdown",
   "metadata": {},
   "source": [
    "### End of Data Processing \n",
    "\n",
    "At this step, all neighborhoods and venues information have been collected and processed : data cleaning, missing data, duplicates etc...\n",
    "\n",
    "For convenience reasons, these data will be stored in 2 files that can be reloaded in a dataframe at any time for future operations winning the time dedicated to all data processing steps."
   ]
  },
  {
   "cell_type": "markdown",
   "metadata": {},
   "source": [
    "## 3. Data Summary \n",
    "\n",
    "Now we can summarize what we know about the new dataframe with the added scores for each venue.\n",
    "\n",
    "Total number of venues                     = 3508 \n",
    "Total number of venue attributes           = 12 \n",
    "Total number of represented neighborhoods  = 81 \n",
    "Total number of unique venue categories    = 307 \n"
   ]
  },
  {
   "cell_type": "markdown",
   "metadata": {},
   "source": [
    "## 4. Conclusions : Data Set Preparation\n",
    "\n",
    "\n",
    "That section ends the data gathering and processing phases.\n",
    "\n",
    "Hard work and a lot of trials have been necessary to retrieve with APIs and sometimes manually the full information needed to our analysis.\n",
    "\n",
    "So now we have all the venues in the retrieved set of 3508 samples representing 81 neighborhoods in New York area with walk scores and rental data.\n",
    "\n",
    "In the present study, due to lack of time, we will only consider walk score, not bike or transit scores that are also useful information needed to refine the results we would like to present to the interested stakeholders.\n",
    "\n",
    "We also could extend the information to all 305 neighborhoods of NYC but it will need more efforts to retrieve for example exhaustive rental information from other sources.\n",
    "\n",
    "It is the same for the number of venues limited for our profile to 50 per search call and walkability scores limited to 5000 per day that is clearly not sufficient in time to cover all potential venues existing in all neighborhoods of NYC.  \n",
    "\n",
    "The strategy concerning missing data, duplicates could also be refined : dropping is not always the more efficient action ! We tried also to calculate approximate values but from my point of view, the results are not entirely satisfactory. Developing more elaborated algorithms needs more time I was not able to dedicate to this study.\n",
    "\n",
    "This concludes our data gathering phase. \n",
    "\n",
    "Let's continue to the next step : how this data will be use for analysis leading to find the best places in the 81 neighborhoods of NYC for a student or person wanting to rent a 1BR apartment in a neighborhood with potential work places easily accessible on foot!"
   ]
  },
  {
   "cell_type": "markdown",
   "metadata": {},
   "source": [
    "# Methodology"
   ]
  },
  {
   "cell_type": "markdown",
   "metadata": {},
   "source": [
    "In this project we will direct our efforts on detecting areas of New York City that have the highest density of venues located in the highest walk-scored places with the lowerest rental rates.\n",
    "\n",
    "As said in the _**Data**_ section , we will limit our analysis to the ares containes in the 81 neighborhoods of NYC having information about walkability scores and rental rates.\n",
    "\n",
    "Below, I detail the methodology I used to carry out this project.\n",
    "\n",
    "- Step 1:\n",
    "\n",
    "    Previously, we have already collected the amount of **data: location, category, walk score and average rent for each potential workplace located in 81 neighborhoods of New York City. Each potential workplace have been identified and classified according to Foursquare categorization**.\n",
    "\n",
    "\n",
    "- Step 2:\n",
    "\n",
    "    The analysis will be based on calculation and exploration of '**venues**' across the different neighborhoods of NYC. We will use **heatmaps** to identify a few promising areas with highest density of venues, of walkability cores and the lowest rental values and focus our attention on those areas.\n",
    "\n",
    "\n",
    "- Step 3:\n",
    "\n",
    "    In this final step we will focus on most promising areas and within those create **clusters of locations that meet the requirements** established at the beginning of the project defined with stakeholders.\n",
    "    \n",
    "    The locations targeted are those with the highest '**walk scores**' and the '**lowest rates of rent**'. These areas will be classified according to the density of venues in the  vicinity having the highest rate of **pedestrian friendliness in a radius of 500 meters**,  and we want locations **with the lowest rates of rent in radius of 500 meters**.\n",
    "    \n",
    "    A map will be presented to the stakeholders, displaying all such locations grouped in createed clusters (using **k-means clustering**) of those locations to identify these specific target areas in neighborhoods which constitute a starting directory of adresses to be explored and searched by the astakeholders identified as the best places to choose the cheapest home and find work in the nearest vicinity."
   ]
  },
  {
   "cell_type": "markdown",
   "metadata": {},
   "source": [
    "# Analysis"
   ]
  },
  {
   "cell_type": "markdown",
   "metadata": {},
   "source": [
    "### Basic Explanatory Data analysis \n",
    "After data collecting, completing and cleaning, a main dataframe collects all the available data.\n",
    "\n",
    "For conveniance reasons, the dataframe has been split in 2 others to facilitate data manipulation and analysis :\n",
    "\n",
    "- **Neighborhoods dataframe**\n",
    "    - 53 elements in range [0, 52] (-> Garment District) have all 50 retrieved venues and cumulate from 0 to 2650          venues on a total of 3508 for all 81 venues.\n",
    "\n",
    "   - Neighborhoods in last range [54, 80]  (Battery Park City -> Forest Park) cumulate from 2651 to 3508 venues\n",
    "\n",
    "- **Venues dataframe**\n",
    "  - 3508 retrieved venues that are completely filled by rental data\n",
    "  \n",
    "Nota\n",
    "------\n",
    "\n",
    "Unfortunately, due to API limitations, we have no information on real repartition of venues because the most part of neighborhoods that cumulate more than 50 retrieved venues are limited to 50.\n",
    "\n",
    "In the next section, we focus on graphical analysis et derive some useful tables that tells us about the links between different properties of the studied areas of NYC."
   ]
  },
  {
   "cell_type": "markdown",
   "metadata": {},
   "source": [
    "## 1. Graphical Data Analysis \n",
    "\n",
    "Based on graphical visualisation representated in the pictures displayed below we can define and shape the interesting properties of our dataset relative to the requirements to be taken account in this study."
   ]
  },
  {
   "cell_type": "markdown",
   "metadata": {},
   "source": [
    "###  a. Venue Density \n",
    "\n",
    "#### Most part of Neighborhoods (87%) have the maximum high venue density of 50 (71 on 81) \n",
    "\n",
    "Screenshots of the venue density is displayed below :\n",
    "***\n",
    ">>> <table><tr><td><img src=\"VenueDensity.png\" width=\"400\" height=\"400\"/></td><td><img src=\"NumberVenuesNeighborhood.png\" width=\"400\" height=\"400\"/></td></tr></table>\n",
    "***\n",
    "\n"
   ]
  },
  {
   "cell_type": "markdown",
   "metadata": {},
   "source": [
    "###  b. Rental Prices  \n",
    "\n",
    "#### Neighborhoods \n",
    "\n",
    "At a coarse-grained grained level exploration, we first consider neighborhoods.\n",
    "\n",
    "We do some data explorations by statistical calculations on rentals at neighborhood level.\n",
    "\n",
    "That could be useful information foor the stakeholders.\n",
    "\n",
    "- Minimum: Smallest number in the dataset                            : min  = 1625\n",
    "- First quartile: Middle number between the minimum and the median   : 25%  = 2250\n",
    "- Second quartile (Median): Middle number of the (sorted) dataset    : 50%  = 2950\n",
    "- Third quartile: Middle number between median and maximum           : 75%  = 3312\n",
    "- Maximum: Highest number in the dataset                             : max  = 4391\n",
    "\n",
    "It has been counted on 81 values and the mean Average Rental values is around 2798 (see below) :\n",
    "\n",
    "***\n",
    ">>> <img src=\"AvgRental1BR_boxplot.png\" width=\"400\" height=\"400\"/>\n",
    "***\n",
    "\n",
    "That seems to be a quite high amount of money for a student ! \n",
    "\n",
    "We could also see how the neighborhoods behave relative to the Rental Price '1BR' or 'Budget' values, categories indicating the observed rental price compared to what it should be.\n",
    "\n",
    "***\n",
    ">>> <table><tr><td><img src=\"AvgRentalbyNgbh.png\" width=\"400\" height=\"400\"/></td><td><img src=\"AvgRentbyNghb_2.png\" width=\"400\" height=\"400\"/></td><td><img src=\"RentalPriceRepartitionByBudget_catplot.png\" width=\"400\" height=\"400\"/></td></tr></table>\n",
    "***"
   ]
  },
  {
   "cell_type": "markdown",
   "metadata": {},
   "source": [
    "###  c. Walkability Scores \n",
    "\n",
    "More accurate, at a fine-grained level exploration, we look at venues behaviour.\n",
    "\n",
    "We do some data explorations by statistical calculations on rentals in areas defined by the Walkability scores at venue level but also getting the mean at neighborhood level as displayed below.\n",
    "\n",
    "***\n",
    ">>> <table><tr><td><img src=\"NgbhMeanWSper1BRPrice_boxplot.png\" width=\"400\" height=\"400\"/></td><td><img src=\"NgbhMeanWSperBudget_catplot.png\" width=\"400\" height=\"400\"/></td></tr></table>\n",
    "***\n",
    "\n",
    " and more descriptive this one :\n",
    " \n",
    ">>> <img src=\"PercVenperWSperBudget_barplot.png\" width=\"600\" height=\"500\"/>"
   ]
  },
  {
   "cell_type": "markdown",
   "metadata": {},
   "source": [
    "## 2. Statistical Exploration Summary \n",
    "\n",
    "Below we presents a summary of the tables built during the statistical exploration of our datasets concerning the neighborhoods and the venues that helped us to select the data complying the requirements.\n",
    "\n",
    "The Level of Buget or Prices compared well with the level of Walkability Scores. We can see a recovery of the areas ranked by Budget/Prices and Walkability Scores.\n",
    "\n",
    "The highest Walkability scored areas are also in the highest Rental Budget Prices areas. "
   ]
  },
  {
   "cell_type": "markdown",
   "metadata": {},
   "source": [
    "###  a. Neighborhoods by Walkability Scores and Rental Price Categories  \n",
    "\n",
    "We can see clearly that more than half (45 on 81) i.e 56% of all neighborhoods prices are relatively affordable. \n",
    "\n",
    "All 'Pricey' neighborhoods (33 on 81) are highly walkable and represent about 41% of the total.\n",
    "\n",
    "Let's repeat the same calculus to explore now the number of venues for potential workplaces relative to Walkability scores.\n",
    ">>>  <table><tr><td><img src=\"NumberNgbhbyBudgetByWalkScore.png\" width=\"400\" height=\"500\"/></td><td><img src=\"PercNbyWSbyBudget.png\" width=\"400\" height=\"500\"/></td></tr></table>\n",
    "\n",
    "\n",
    "###  b. Venues Targeted by Walkability Scores and Rental Price Categories \n",
    "\n",
    "We can see that all areas are massively Wakable and the highest is walkability score, the highest is the rental price.\n",
    "\n",
    "So, the calculated numbers for venues correlate quite well those for neighborhoods (not a surprise, the opposite would have been surprising of course !). About 53% of all venues are located in 'affordable' areas with high walkability scores.\n",
    "\n",
    "As previously observed, all venues located in 'Pricey' areas are also highly walkable and represent about 46% of the total.\n",
    "\n",
    ">>>  <table><tr><td><img src=\"VenueperWSperBudget.png\" width=\"400\" height=\"500\"/></td></tr></table>"
   ]
  },
  {
   "cell_type": "markdown",
   "metadata": {},
   "source": [
    "##  3. Cartographic Localisation Exploration "
   ]
  },
  {
   "attachments": {},
   "cell_type": "markdown",
   "metadata": {},
   "source": [
    "####  a. Target Neighborhoods in New York City \n",
    "\n",
    "Above, is displayed a map created for localisation of the Neighborhoods we have in the dataset. It gives a good starting point to compare with the final results after clutering.\n",
    "\n",
    " <table><tr><td><img src=\"Map_NYC_Neighborhoods.png\" width=\"500\" height=\"500\"/></td></tr></table>"
   ]
  },
  {
   "attachments": {},
   "cell_type": "markdown",
   "metadata": {},
   "source": [
    "####  b. Target Places in New York City \n",
    "\n",
    "And now the same as above but visualizing venues locations with colors indicating the category of the place in function of the Walk Scores and Pricing !\n",
    "\n",
    "<img src=\"Map_NYC_Venues.png\" width=\"500\" height=\"500\"/>\n"
   ]
  },
  {
   "attachments": {},
   "cell_type": "markdown",
   "metadata": {},
   "source": [
    "####  c. Heatmap of Places in Walk Scored Areas in New York City \n",
    "\n",
    "For the fun, explore the venues in a heatmap indicating the areas coloried in function of the Walkability scores.\n",
    "\n",
    "<img src=\"HeatMap_WS_NYC_Venues_2.png\" width=\"500\" height=\"500\"/>"
   ]
  },
  {
   "cell_type": "markdown",
   "metadata": {},
   "source": [
    "####  d. Cartographic Exploration Summary\n",
    "\n",
    "We have about 2 thousands of venues (1825) localized in New York City and a good visualization tool to locate these places rated according to their Walkability or observe rental Pricing of 1 Bedroom apartment.\n",
    "\n",
    "We can graphically say that several sections appear like (but not the only ones) :\n",
    "\n",
    "- Good candidate places where rental price is 'cheap' and can live and work without owning a car \n",
    "    - Justice Ave (btwn Broadway & 52nd Ave), Elmhurst, NY 11373 (*Walker’s Paradise/Cheap 1900)\n",
    "    - Woodhaven, NY 11421 (*Walker’s Paradise/Cheap:1625)\n",
    "    - Ave (Jamaica Av), Richmond Hill, NY 11418 (*Walker’s Paradise/Cheap:1663)\n",
    "    - Lefferts Blvd, South Ozone Park, NY 11420 (*Very Walkable/Cheap:1663)\n",
    "    - etc...\n",
    "\n",
    "but :\n",
    "- Places to avoid if you have limited financial means even if walkable\n",
    "    - Ave (at Metropolitan Ave), Brooklyn, NY 11211 (Walker’s Paradise/Pricey:3300)\n",
    "    - Flatiron District New York, NY 10010 (Walker’s Paradise/Pricey:3552)\n",
    "    -  Grand Ave, Maspeth, NY 11378 (Car-Dependant/Average:2331)\n",
    "    - (Bld. 292), Brooklyn, NY 11205 (Car-Dependant/Pricey:3312)\n",
    "    - etc...\n",
    "\n",
    "Finally, we could continue along the list of adresses provided thanks to Foursquare for the venues, Walkscore for the pedestrian well-being and Renthop for the rental pricing.\n",
    "\n",
    "All the data used for the analysis come from manual data manipulations.\n",
    "\n",
    "The challenge now is to use methods to automate the composition of the group of places fitting the requirements.\n",
    "\n",
    "We will use K-Means clustering for this purpose.\n",
    "\n",
    "Let us now cluster those locations to create a list of areas around venues gathering all our conditions i.e hihgly walkable with low rental prices and containing the maximum potential workplaces. The list issued from the processing ids the one that can be provided to stakeholders and usefull for people looking for places to live for cheap and with a good quality of life. \n",
    "\n",
    "Those zones, their centers and addresses will be the final result of our analysis. "
   ]
  },
  {
   "cell_type": "markdown",
   "metadata": {},
   "source": [
    "##  3. Analysis : Conclusions "
   ]
  },
  {
   "cell_type": "markdown",
   "metadata": {},
   "source": [
    "Interesting information for the future tenants ! \n",
    "\n",
    "- Unfortunately major part of the rents are 'Pricey' : 41 %\n",
    "- 1BRs with a Cheap rent are not so many : 22 %\n",
    "- Even in Average prices, only a little bit more than 1/3 can be found : 41 %\n",
    "\n",
    "We already found that the repartition of Rental Prices are like below :\n",
    "- Minimum: Smallest number in the dataset :                          **min = 1625**\n",
    "- First quartile: Middle number between the minimum and the median : **25% = 2250**\n",
    "- Second quartile (Median): Middle number of the (sorted) dataset :  **50% = 2950**\n",
    "- Third quartile: Middle number between median and maximum :         **75% = 3312**\n",
    "- Maximum: Highest number in the dataset :                           **max = 4391**\n",
    "\n",
    "The repartition has been counted on 81 neighborhoods and the mean Average Rental values is around **2798**.\n",
    "\n",
    "A good news : most part of the neighborhoods (78 on a total of 81) are localised in areas with high walk scores (Walker’s Paradise or Very Walkable) and 53 of these 78 have the maximum of venues (50) allowing better chance to find a job.\n",
    "\n",
    "So we would concentrate on these areas to propose our adresses. In fact, we would like to build a multi-dimentional table of areas where the best profile would be :\n",
    "- Highest Wakability scores\n",
    "- Highest number of Venues\n",
    "- Lowest Rental prices\n",
    "\n",
    "\n",
    "|Budget     |    Inf    |  Sup  |           \n",
    "|-----------|:---------:|:-----:|\n",
    "| *Cheap*   |     0     | 2149  |\n",
    "| *Average* |    2150   | 3149  |\n",
    "| *Pricey*  |    3150   |  '>'  |\n",
    "\n",
    "\n",
    "**Summary** \n",
    "\n",
    "- Most part of Neighborhoods are _Walker’s Paradise_  \n",
    "- Most part of Neighborhoods can offer maximum workplaces  (at least **50**)\n",
    "- But Neighborhoods are expansive : major part of rents are more than **2950** until **4391**\n",
    "- Finding a cheap rent is difficult and it costs beween **1625** until **2125**\n",
    "- And finally Average mean is quite high and lower than the Median rent : **2798** v.s. **2950**\n",
    "\n",
    "So it is why finding a job in the vicinity with a high walk score could allow to avoid spending money in cars.\n",
    "This is the next step of analysis.\n",
    "\n",
    "So the discrimination factor is clearly the price and the result of this study will be to provide the areas with the highest level of walkability, the highest density of venues and the lowest prices that could be resumed below :\n",
    "\n",
    "\n",
    "  | Budget    | Very Walkable | Walker’s Paradise | Prices            |\n",
    "  |-----------|:-------------:|:-----------------:|:-----------------:|\n",
    "  |Cheap\t  | \t  6 \t  | \t  13\t      | Y < 2150 \t      |\n",
    "  |Average\t  | \t  5 \t  |\t\t  30 \t\t  | 2149 < Y < 3150   |\n",
    "  |___________|_______________|___________________|___________________|\n",
    "  |Walk Score |   69 < X < 90 |\t\t X >= 90      |                   |\n"
   ]
  },
  {
   "cell_type": "markdown",
   "metadata": {},
   "source": [
    "# Results"
   ]
  },
  {
   "cell_type": "markdown",
   "metadata": {},
   "source": [
    "#####  This last phase consists in building the proposal to the stakeholders defining a set of neighborhoods and places in New York City combining the criteria we set up in the proble statement : place with no car-dependance, with high potential to find work places  and with the lowest rental prices.\n",
    "\n",
    "This led us to define the clusters matching our criteria :\n",
    "- First : at neighborhood level to have a high level map of areas of interest\n",
    "- Second : at venues level to define areas adresses for a more accurate map"
   ]
  },
  {
   "cell_type": "markdown",
   "metadata": {},
   "source": [
    "We have retrieved and prepared the raw data needed for clustering matching the Walk Score, Number of venues and Rental Prices : \n",
    "\n",
    "- for neighborhoods and \n",
    "- for venues "
   ]
  },
  {
   "cell_type": "markdown",
   "metadata": {},
   "source": [
    "##  1. Data Sets "
   ]
  },
  {
   "cell_type": "markdown",
   "metadata": {},
   "source": [
    "### a. Target Neighborhoods  Data Set\n",
    "\n",
    "We kept only our 45 over 81 of all neighborhoods prices are relatively affordable and with high Walkability."
   ]
  },
  {
   "cell_type": "markdown",
   "metadata": {},
   "source": [
    "### b. Targeted Venues Data Set \n",
    "\n",
    "We chose also the venues belonging to the 45 neighborhoods fitting the requirements."
   ]
  },
  {
   "cell_type": "markdown",
   "metadata": {},
   "source": [
    "## 2. Clustering New York City Neighborhoods and Venues\n",
    "\n",
    "We use the same step to build the clusters for neighborhoods and venues."
   ]
  },
  {
   "cell_type": "markdown",
   "metadata": {},
   "source": [
    "### a. Pre-processing\n",
    "\n",
    "Before clustering we pre-process the data :\n",
    "- Removing useless columns (categorical, string etc...)\n",
    "- Normalizing data to be able to interpret features with different magnitudes and distributions equally... We will StandardScaler() to normalize our dataset."
   ]
  },
  {
   "cell_type": "markdown",
   "metadata": {},
   "source": [
    "### b. Modeling\n",
    "\n",
    "To perform neighborhood Clustering, we build our model with with KMeans, using 4 clusters because it is the number of the different groups that fit the requirements. Hereafter, the code use to process the model.\n",
    "\n",
    "> *clusterNum = 4**\n",
    "\n",
    "> *k_means_v = KMeans(init = \"k-means++\", n_clusters = 4, n_init = 12)*\n",
    "\n",
    "> *k_means_v.fit(X_v)*\n",
    "\n",
    "> *labels_v = k_means_v.labels_*\n",
    "\n",
    "> *print(len(labels_v), labels_v)*"
   ]
  },
  {
   "attachments": {},
   "cell_type": "markdown",
   "metadata": {},
   "source": [
    "### c. Clusters Centroids\n",
    "\n",
    "The results are displayed in the tables below.\n",
    "\n",
    "***\n",
    "><table><tr><td><img src=\"Centroid_Venue.png\" width=\"400\" height=\"500\"/></td><td><img src=\"Centroid_Neighborhood.png\" width=\"400\" height=\"500\"/></td></tr></table>\n",
    "***\n"
   ]
  },
  {
   "attachments": {},
   "cell_type": "markdown",
   "metadata": {},
   "source": [
    "### d. Clusters\n",
    "Finally, we obtain the clusters displayed below. Once the clusters built, it is possibble to extract the locations in New York City of the areas that meet the different available criteria or requirements.\n",
    "\n",
    "***\n",
    ">>> <table><tr><td><img src=\"Clusters_Ngbh_wo_cat.png\" width=\"400\" height=\"400\"/></td><td><img src=\"Clusters_Venues_wo_cat.png\" width=\"400\" height=\"400\"/></td></tr></table>\n",
    "***"
   ]
  },
  {
   "attachments": {},
   "cell_type": "markdown",
   "metadata": {},
   "source": [
    "### e. Results : Interactive Maps and Heatmaps\n",
    "\n",
    "But more powerful is an interactive map as the result of this project where all neighborhoods can be retrieved by a color associated to the retained criteria and a specific place by a grap of venues located on the top of this place on the New York City map.\n",
    "\n",
    "Below is presented our result : an interactive heatmap of places identified by a specific color and with textual popup of the location and price, in areas also scored by Wakability level.\n",
    "\n",
    "***\n",
    ">>> <table><tr><td><img src=\"HeatMap_WS_NYC_Venues_Cluster.png\" width=\"600\" height=\"600\"/></td></tr></table>\n",
    "***"
   ]
  },
  {
   "cell_type": "markdown",
   "metadata": {},
   "source": [
    "# Discussion"
   ]
  },
  {
   "cell_type": "markdown",
   "metadata": {},
   "source": [
    "Using the data available for a non professionnal project, so limited in number and quality, our analysis shows that we were able to retrieve several thousands of basic information on places (a number of about 3500 venues in New York) represented about only 81 neighborhoods over the 306 existing in New York City.\n",
    "\n",
    "So, unfortunately these data does not cover the totality of New City.\n",
    "\n",
    "However, we succeded to set in place a tool allowing to collect data, analyse and finally select the most appropriate places matching a number of criteria.\n",
    "\n",
    "All this work has been mainly conducted using data science tools available for all Data Scientists from beginner level to expert level. \n",
    "\n",
    "The most part of the work performed here was to collect and process the data so that it could be used for analysis.\n",
    "\n",
    "Once the data set cleaned and prepared with the right format, we have been capable to extract the points of interest gathering all the criteria defined in the requirements exposed in the problem statement.\n",
    "\n",
    "These data were filtered among the data collected intially in such a way that they can constitute a good starting point to consider the areas fitting the following criteria :\n",
    "\n",
    "- pedestrian possibilities or walkability of a place within a radius of 500 m from the center of visualized circle\n",
    "- opportunity degree to find a job and\n",
    "- needed amount of money to rent a 1 bedroom apartment to locate they want to dedicate.\n",
    "\n",
    "Procedures and functionalities has been elaborated so that it has been set possible to select a set of places in New York City that correspondant to the criteria presented above.\n",
    "\n",
    "The selection of places is based on the **K-Means Clustering** algorithm that allows to avoid a lot of manual and dedicated opertions on the submitted data set.\n",
    "\n",
    "However, we can observe an underlying decision process adopted by the K-Means that is not so automatic and some time seems inefficient.\n",
    "\n",
    "I realized that the main reason is tied to the data :\n",
    "- first : which data to provide to the clustering algorithm ?\n",
    "- second : depending on the criteria we want to prioritize for example here Walkabitilty or number of potential workplaces or rental amounts, it will be necessary to also provide multiplicative coefficients to adapt the weight or relative importance that one attaches to the order of the chosen criteria. That will finally guide the K-Means in decision making.\n",
    "\n",
    "Therefore, the process should be improved by trying several values of coefficients and not retaining those which make the best result compared to what is expected according to the importance of the chosen criteria.\n",
    "\n",
    "Finally, the results can be consulted under 2 formats:\n",
    " - textual list of adresses located around venues chose to mark an interested area\n",
    " - visual interative maps or heatmaps that also directly guide the user on the points of interest colored relative to the K-Means clustering results."
   ]
  },
  {
   "cell_type": "markdown",
   "metadata": {},
   "source": [
    "# Conclusion"
   ]
  },
  {
   "cell_type": "markdown",
   "metadata": {},
   "source": [
    "We finally succeded in partitioning manually the candidate places in 4 categories.\n",
    "\n",
    "We tried to reproduce this categorisation using clustering methods. The obtained cluters do not fit exactly those obtained manually.\n",
    "\n",
    "The clustering parameters should be tweaked more carefully. In particular, it should be possible to try and adjust to reflect the importance given to each criterion which can change the nature and composition of the clusters.\n",
    "\n",
    "But it is a promising track.\n",
    "\n",
    "This process could be surely automated by using more advanced Data Science tools like Neural Network to learn the needed parameters but this was not the purpose of this work.\n",
    "\n",
    "As a result, we could already propose a list of adresses of places, summarized on interactive maps of New York City that would meet the needs of customers.\n",
    "\n",
    "At least, based on the results of this work, we can elborate an automatic recommendation tools that could interest the following populations :\n",
    "\n",
    "- Students that would like to find a job close to the place of residence\n",
    "- People who do not own any personal vehicle because they have either ecological convictions or low income but who love lively places with lots of restaurants, cafes, shops, cultural places etc. So those who are interested in living in a place with a high level walk-ability index.\n",
    "- Companies that work around search engines for rental accommodation agencies\n",
    "- Reception centers and help for students\n",
    "\n",
    "That ends this work on Data Science Application Project."
   ]
  }
 ],
 "metadata": {
  "kernelspec": {
   "display_name": "Python 3",
   "language": "python",
   "name": "python3"
  },
  "language_info": {
   "codemirror_mode": {
    "name": "ipython",
    "version": 3
   },
   "file_extension": ".py",
   "mimetype": "text/x-python",
   "name": "python",
   "nbconvert_exporter": "python",
   "pygments_lexer": "ipython3",
   "version": "3.5.2"
  },
  "widgets": {
   "state": {},
   "version": "1.1.2"
  }
 },
 "nbformat": 4,
 "nbformat_minor": 2
}
