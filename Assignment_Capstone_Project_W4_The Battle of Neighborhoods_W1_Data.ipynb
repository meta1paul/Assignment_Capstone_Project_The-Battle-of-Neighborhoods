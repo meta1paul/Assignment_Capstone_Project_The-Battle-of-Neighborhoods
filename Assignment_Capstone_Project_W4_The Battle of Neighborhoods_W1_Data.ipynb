{
 "cells": [
  {
   "cell_type": "markdown",
   "metadata": {},
   "source": [
    "# Capstone Project - The Battle of Neighborhoods \n",
    "## 'The Best Walkable Spots for Students in NY'\n",
    "\n",
    "### Final Report"
   ]
  },
  {
   "cell_type": "markdown",
   "metadata": {},
   "source": [
    "## Introduction\n",
    "\n",
    "In this first week, you have to clearly define a problem or an idea of your choice, where you would need to leverage the Foursquare location data to solve or execute. Remember that data science problems always target an audience and are meant to help a group of stakeholders solve a problem, so make sure that you explicitly describe your audience and why they would care about your problem.\n",
    "\n",
    "This submission will eventually become your Introduction/Business Problem section in your final report. So I recommend that you push the report (having your Introduction/Business Problem section only for now) to your Github repository and submit a link to it."
   ]
  },
  {
   "cell_type": "markdown",
   "metadata": {},
   "source": [
    "## Table of Contents\n",
    "\n",
    "__1.Introduction - Business Problem Definition.__\n",
    "\n",
    "__2. Data__\n",
    "\n",
    "__3. Methodology__\n",
    "\n",
    "__4. Results__\n",
    "\n",
    "__5. Discussion__\n",
    "\n",
    "__6. Conclusion__"
   ]
  },
  {
   "cell_type": "markdown",
   "metadata": {},
   "source": [
    "# Introduction - Business Problem Definition"
   ]
  },
  {
   "cell_type": "markdown",
   "metadata": {},
   "source": [
    "##  Study Context"
   ]
  },
  {
   "cell_type": "markdown",
   "metadata": {},
   "source": [
    "There a category of students or young adults that would like to settle temporarily in New York City. This type of people has often low financial resources. They cannot afford to own and maintain a car with all the expenses that it can generate. Sometimes it is also because they want to adopt a greener transportation style to reduce their carbon footprint.\n",
    "\n",
    "To help for their daily expenses or to supplement their basic income, they often hold jobs in the restaurants, shops, bars, etc. Moreover, as generally with young people, they also like to frequent the lively neighborhoods to meet their friends or other people. \n",
    "\n",
    "We can therefore predict that this category of population will be interested in looking for rental housing in lively areas allowing both leisure outings and opportunities to find odd jobs.\n",
    "\n",
    "Of course, since they do not have a personal vehicle because lacking financial means or by the choice of ecological convictions, these students or young people will certainly look for renting nearby rooms or studios in neighborhoods as close as possible to places where they can easily find extra work.\n",
    "\n",
    "A criterion of choice will be the proximity of the place of residence to these employment zones, having the possibility of getting there as quickly as possible first by walking as a pedestrian then using a skate-board, a bicycle or by public transport such as bus lines or metro etc ..."
   ]
  },
  {
   "cell_type": "markdown",
   "metadata": {},
   "source": [
    "## Problem Statement"
   ]
  },
  {
   "cell_type": "markdown",
   "metadata": {},
   "source": [
    "\n",
    "As a Data Scientist, I would like to study the neighborhoods of New York and make a classification according to the number of places of shopping, outings and leisure and the accessibility of these places by walking (in a first study).\n",
    "\n",
    "Later, we can refine by considering also other transportation means such as bike or public transport such as buses and metro.\n",
    "\n",
    "Finally to be closer to the reality of these low-income people, we can add the rental price criterion (average in the neighborhood) to study the influence on the classification.\n",
    "\n",
    "Nota: in this case study, the important factor of \"income required per tenant\" to be able to rent a room has not not been considered. Of course, it must be taken into account in a real life."
   ]
  },
  {
   "cell_type": "markdown",
   "metadata": {},
   "source": [
    "## Target Audience"
   ]
  },
  {
   "cell_type": "markdown",
   "metadata": {},
   "source": [
    "Who could be interested in this problem ?\n",
    "\n",
    "At least we can list the following target populations :\n",
    "\n",
    "1. Students that would like to find a job close to the place of residence\n",
    "\n",
    "2. People who do not own any personal vehicle because they have either ecological convictions or low income but who love lively places with lots of restaurants, cafes, shops, cultural places etc. So those who are interested in living in a place with a high level walk-ability index.\n",
    "\n",
    "3. Companies that work around search engines for rental accommodation agencies\n",
    "\n",
    "4. Reception centers and help for students "
   ]
  },
  {
   "cell_type": "markdown",
   "metadata": {},
   "source": [
    "# Data Set Definition"
   ]
  },
  {
   "cell_type": "markdown",
   "metadata": {},
   "source": [
    "A summary of needed data can be established from the problem definition above. \n",
    "\n",
    "As an output of the solution, we would like to provide a global picture of the New York places indicating where it is possible to rent a room or studio and with a score calculated based on the proximity of restaurants, bars, Coffee Shops or other businesses fully accessible to pedestrians. Something like a heat-map of places in New York City.\n",
    "\n",
    "So we will need to retrieve the following information:\n",
    "\n",
    "1. The list and localisation of New York neigborhoods\n",
    "2. The list and localisation of places such as coffee shop, restaurants, miscellaneous shop, theaters etc around a specific place in New York \n",
    "3. The list of places with their walkability measure\n",
    "4. The list of places with their average rental price\n",
    "\n",
    "In the next sections, each data set is described given the origin, the type of data and the way it will be used to solve the problem we defined above."
   ]
  },
  {
   "cell_type": "markdown",
   "metadata": {},
   "source": [
    "##  1. New York neigborhoods"
   ]
  },
  {
   "cell_type": "markdown",
   "metadata": {},
   "source": [
    "We follow the same process as given in the labs _\"Segmenting and Clustering Neighborhoods in New York City\"_. \n",
    "\n",
    "To remember what we learned, we know now that New York has a total of 5 boroughs and 306 neighborhoods. In order to segment the neighborhoods and explore them, we will essentially need a dataset that contains the 5 boroughs and the neighborhoods that exist in each borough as well as the the latitude and longitude coordinates of each neighborhood.\n",
    "\n",
    "Luckily, this dataset exists for free on the web.  We will use the dataset at the link we have been given : https://geo.nyu.edu/catalog/nyu_2451_34572.\n",
    "\n",
    "The Web page displays the following information : \n",
    "\n",
    "***\n",
    "> _2014 New York City Neighborhood Names_\n",
    "\n",
    "> _Description:_\n",
    ">> _This New York City Neighborhood Names point file was created as a guide to New York City’s neighborhoods\n",
    ">> that appear on the web resource, “New York: A City of Neighborhoods.” Best estimates of label centroids were \n",
    ">> established at a 1:1,000 scale, but are ideally viewed at a 1:50,000 scale._\n",
    "\n",
    "> __Publisher: New York (City). Department of City Planning_\n",
    "\n",
    "> _Collection: Bytes of the Big Apple_\n",
    "\n",
    "> _Place(s): New York, New York, United States_\n",
    "\n",
    "> _Subject(s): Neighborhoods, Neighborhood planning, and Communities_\n",
    "\n",
    "> _Format(s): Shapefile_\n",
    "\n",
    "> _Year: 2014__\n",
    "\n",
    "> _Held by: NYU_\n",
    "\n",
    "> _Preservation record: http://hdl.handle.net/2451/34572_\n",
    "***\n",
    "\n",
    "On this Web page, we select the format of the file we want to generate. Selecting _'json'_ format, the following message is displayed indicating that the resulting formatted file is ready to be downloaded locally :\n",
    ">> _'Your file nyu-2451-34572-geojson.json is ready for download'_\n",
    "\n",
    "After that, we are able to parse the json features array of 306 items to extract all the information about the neighborhoods of New York.\n",
    "\n",
    "This step leads us to build a dataframe, _**neighborhoods**_, containing the elementary data needed to solve our problem i.e. neighborhoods with location coordinates. \n",
    "\n",
    "Using pandas library, we map the json data to the _**neighborhoods**_ dataframe containing 4 columns listed below :\n",
    "\n",
    ">> _**Borough, Neighborhood, Latitude, Longitude**_"
   ]
  },
  {
   "cell_type": "markdown",
   "metadata": {},
   "source": [
    "##  2. Venues in New York Neigborhoods"
   ]
  },
  {
   "cell_type": "markdown",
   "metadata": {},
   "source": [
    "For these data, we also follow the same process as given in the labs _\"Segmenting and Clustering Neighborhoods in New York City\"_, i.e. using the _**Foursquare API**_ to explore the neighborhoods.\n",
    "\n",
    "This is a requirement of this assignment. \n",
    "\n",
    "Using Foursquare API allows to request a number of top venues that are in each neighborhood within a defined radius. A GET request to  _**Foursquare**_ looks like in python code :\n",
    "\n",
    "***\n",
    "~~~~\n",
    "# Build the url\n",
    "radius = 500\n",
    "LIMIT = 100\n",
    "\n",
    "url = 'https://api.foursquare.com/v2/venues/explore?client_id={}&client_secret={}&ll={},{}&v={}&radius={}&limit={}'.format(\n",
    "        CLIENT_ID, \n",
    "        CLIENT_SECRET,\n",
    "        neighborhood_latitude, neighborhood_longitude,\n",
    "        VERSION,\n",
    "        radius,\n",
    "        LIMIT)\n",
    "\n",
    "# make the GET request\n",
    "results = requests.get(url).json()\n",
    "~~~~ \n",
    "***\n",
    "\n",
    "After that, the 'results' data is ready to be cleaned and structured it into a pandas dataframe containing at least the needed columns and rows such as displayed below :\n",
    "***\n",
    "~~~~\n",
    " \tname                    \tcategories          \tlat     \tlng\n",
    "0 \tArturo's                \tPizza Place        \t40.874412 \t-73.910271\n",
    "1 \tBikram Yoga             \tYoga Studio        \t40.876844 \t-73.906204\n",
    "2 \tTibbett Diner           \tDiner              \t40.880404 \t-73.908937\n",
    "3 \tStarbucks               \tCoffee Shop        \t40.877531 \t-73.905582\n",
    "4 \tLand & Sea Restaurant\tSeafood Restaurant    \t40.877885 \t-73.905873\n",
    "~~~~\n",
    "***\n",
    "\n",
    "This is how Foursquare API is used to build this data set that will be combined for each neighborhood to identify venues around places of interest.\n",
    "\n",
    "This will contribute to rank each places with the number of available venues."
   ]
  },
  {
   "cell_type": "markdown",
   "metadata": {},
   "source": [
    "##  3. Walkability Measures of New York Places"
   ]
  },
  {
   "cell_type": "markdown",
   "metadata": {},
   "source": [
    "These measures will help to define the places in New York neighborhoods that are the most suitable for people who do not own a vehicle and want to travel only on foot or by public transportation.\n",
    " \n",
    "Fortunately, like _**Foursquare**_, there is also a Web Site _**\"Walk Score\"**_ (https://www.walkscore.com/) that provides an API to compute a score for each place identified by location coordinates.\n",
    "\n",
    "As displayed on the Web page, a :\n",
    "> _\"Walk Score is a number between 0 and 100 that measures the walkability of any address.\"_\n",
    "\n",
    "And using the following methodology :\n",
    "> _\"Walk Score measures the walkability of a location based on its distance from amenities, density of population, block length and pedestrian friendliness. The annual ranking identifies the most walkable U.S. cities with populations of more than 300,000.\"_ \n",
    "\n",
    "This leads to defining a 5-level evaluation scale:\n",
    "\n",
    "***\n",
    ">>> <img src=\"WalkScoreIndex.PNG\" width=\"400\"/>\n",
    "***\n",
    "\n",
    "As with _**Foursquare**_, a user can register to get _wsapikey_ to use API calls to retrieve the score for a place.\n",
    "\n",
    "An example is given below :\n",
    "\n",
    "***\n",
    "~~~~\n",
    "# Build the url\n",
    "url = 'http://api.walkscore.com/score?format=json&\n",
    "        address=1119%8th%20Avenue%20Seattle%20WA%2098101&lat=47.6085&\n",
    "        lon=-122.3295&transit=1&bike=1&wsapikey=<YOUR-WSAPIKEY>)\n",
    "\n",
    "# make the GET request\n",
    "results = requests.get(url).json()\n",
    "~~~~ \n",
    "***\n",
    "\n",
    "And the **The Walk Score** API will return the following:\n",
    "\n",
    "***\n",
    "~~~~\n",
    "{\n",
    "\"status\": 1\n",
    ", \"walkscore\": 98\n",
    ", \"description\": \"Walker's Paradise\"\n",
    ", \"updated\": \"2016-11-17 04:40:31.218250\"\n",
    ", \"logo_url\": \"https://cdn.walk.sc/images/api-logo.png\"\n",
    ", \"more_info_icon\": \"https://cdn.walk.sc/images/api-more-info.gif\"\n",
    ", \"more_info_link\": \"https://www.walkscore.com/how-it-works/\"\n",
    ", \"ws_link\":\n",
    "\"https://www.walkscore.com/score/1119-8th-Avenue-Seattle-WA-98101/lat=47.6085/lng=-122.3295/?utm_source=walkscore.com&utm_medium=ws_api&utm_campaign=ws_api\"\n",
    ", \"help_link\": \"https://www.walkscore.com/how-it-works/\"\n",
    ", \"snapped_lat\": 47.6085\n",
    ", \"snapped_lon\": -122.3295\n",
    ", \"transit\" : {\"score\": 100, \"description\": \"Rider's Paradise\", \"summary\": \"115 nearby routes: 103 bus, 6 rail, 6 other\"}\n",
    ", \"bike\" : {\"score\": 68, \"description\": \"Bikeable\"}\n",
    "}\n",
    "~~~~\n",
    "***\n",
    "\n",
    "So it is now possible to rank each places, limit is 5,000 calls by day for a Free Version.\n"
   ]
  },
  {
   "cell_type": "markdown",
   "metadata": {},
   "source": [
    "##  4. Average Rental Price of New York Places"
   ]
  },
  {
   "cell_type": "markdown",
   "metadata": {},
   "source": [
    "These measures will help to refine choice of places in New York neighborhoods that are the most suitable for people with low incomes such as the students population.\n",
    " \n",
    "We will use the Web Site _**\"renthop\"**_ (https://www.renthop.com/) a specialized search engine that allows users to search for apartments in New York City, Boston, Chicago, and other major metropolitan ... \n",
    "\n",
    "Browsing this site, you can find this page _https://www.renthop.com/average-rent-in/new-york-city-ny_ where are displayed the _**\"Rental Stats and Trends\"**_. This is a collection of information that gives:\n",
    "\n",
    "1. *Historical Prices and Trends* : curves of the rental prices of housing by categories (studios, 1 bedroom or 2) since 3 years\n",
    "\n",
    "2. *Median Rents* : table showing prices broken by housing category and quartiles (bottom 25%, median and top 25%)\n",
    "\n",
    "3. *Average Rents by Neighborhoods* : table of average prices broken by \"Neighborhoods\" and given, by housing categories, a price and a classification of the needed budget (Cheap, Average, Pricey).\n",
    "\n",
    "A screenshot of this page is displayed below :\n",
    "\n",
    "***\n",
    ">>> <img style=\"float:left;\" src=\"Renthop_NYC.PNG\" width=\"600\"/>\n",
    "***\n",
    "\n",
    "We are mainly interested by the data stored into the table *Average Rents by Neighborhoods*.\n",
    "\n",
    "To extract the average prices by neighborhoods and by housing categories, I will follow the method used in the previous assignment on the study of _\"Toronto Neighborhoods\"_ when we have extracted postal codes from a wikipedia HTML file.\n",
    "\n",
    "The steps are explained below :\n",
    "\n",
    "1. Download the HTML file at the given link : _'https://www.renthop.com/average-rent-in/new-york-city-ny'_\n",
    "\n",
    "2. Register the file locally\n",
    "\n",
    "3. Open the file and using _'BeautifulSoup'_ library, retrieve :\n",
    "> - the table with the title as displayed above *\"Average Rents by Neighborhoods\"*\n",
    "> - iterate through the next HTML elements to extract the name of the columns \n",
    "> - iterate through the next HTML elements to extract the values for each 'Neighborhood' row \n",
    "\n",
    "4. Build the _pandas Dataframe_ with the retrieved data\n",
    "\n",
    "Below, I present a piece of the HTML file to be parsed with the _'BeautifulSoup'_ library.\n",
    "\n",
    "***\n",
    "~~~~\n",
    "<table id=\"data-table\" class=\"stripe\" style=\"clear: none; margin: 0; width: 640px; border: 1px solid #bbbbbb; border-top: none;\">\n",
    "<thead>\n",
    "<th class=\"font-size-9 bold\" style=\"padding-top: 10px; padding-bottom: 10px; border-top: 1px solid #bbbbbb; border-bottom: 1px solid #bbbbbb; width: 300px; padding-left: 30px; text-align: left\">Neighborhood</th>\n",
    "<th class=\"font-size-9 bold\" style=\"padding-top: 10px; padding-bottom: 10px; border-top: 1px solid #bbbbbb; border-bottom: 1px solid #bbbbbb; width: 80px; padding-left: 30px; text-align: left\">Studio</th>\n",
    "<th class=\"font-size-9 bold\" style=\"padding-top: 10px; padding-bottom: 10px; border-top: 1px solid #bbbbbb; border-bottom: 1px solid #bbbbbb; width: 80px; padding-left: 30px; text-align: left\">1BR</th>\n",
    "<th class=\"font-size-9 bold\" style=\"padding-top: 10px; padding-bottom: 10px; border-top: 1px solid #bbbbbb; border-bottom: 1px solid #bbbbbb; width: 80px; padding-left: 30px; text-align: left\">2BR</th>\n",
    "<th class=\"font-size-9 bold\" style=\"padding-top: 10px; padding-bottom: 10px; border-top: 1px solid #bbbbbb; border-bottom: 1px solid #bbbbbb; width: 100px; padding-left: 30px; text-align: left\">Budget</th>\n",
    "</thead>\n",
    "<tr>\n",
    "<td class=\"font-size-9\" style=\"padding-bottom: 5px; padding-top: 3px; padding-left: 10px;\"><a href=\"/average-rent-in/alphabet-city/nyc\">Alphabet City</a></td>\n",
    "<td class=\"font-size-9\" style=\"padding-bottom: 5px; padding-top: 3px; padding-left: 10px;\">$2,200</td>\n",
    "<td class=\"font-size-9\" style=\"padding-bottom: 5px; padding-top: 3px; padding-left: 10px;\">$2,905</td>\n",
    "<td class=\"font-size-9\" style=\"padding-bottom: 5px; padding-top: 3px; padding-left: 10px;\">$3,500</td>\n",
    "<td class=\"font-size-9\" style=\"padding-bottom: 5px; padding-top: 3px; padding-left: 10px;\">Average</td>\n",
    "</tr>\n",
    "<tr>\n",
    "<td class=\"font-size-9\" style=\"padding-bottom: 5px; padding-top: 3px; padding-left: 10px;\"><a href=\"/average-rent-in/astoria/nyc\">Astoria</a></td>\n",
    "<td class=\"font-size-9\" style=\"padding-bottom: 5px; padding-top: 3px; padding-left: 10px;\">$1,875</td>\n",
    "<td class=\"font-size-9\" style=\"padding-bottom: 5px; padding-top: 3px; padding-left: 10px;\">$2,125</td>\n",
    "<td class=\"font-size-9\" style=\"padding-bottom: 5px; padding-top: 3px; padding-left: 10px;\">$2,400</td>\n",
    "<td class=\"font-size-9\" style=\"padding-bottom: 5px; padding-top: 3px; padding-left: 10px;\">Cheap</td>\n",
    "</tr>\n",
    "~~~~ \n",
    "***\n",
    "\n",
    "The goal of this parsing is to tranform the retrieved data into a _pandas dataframe_.\n",
    "\n",
    "This dataframe combined with the other information, will allow to refine our evaluation on the neighborhoods that could answer part of our initial problem."
   ]
  },
  {
   "cell_type": "markdown",
   "metadata": {},
   "source": [
    "### Thank you for this lab!\n",
    "\n",
    "This notebook was created by [Alex Aklson](https://www.linkedin.com/in/aklson/) and [Polong Lin](https://www.linkedin.com/in/polonglin/). I hope you found this lab interesting and educational. Feel free to contact us if you have any questions!"
   ]
  },
  {
   "cell_type": "markdown",
   "metadata": {},
   "source": [
    "This notebook is part of a course on **Coursera** called *Applied Data Science Capstone*. If you accessed this notebook outside the course, you can take this course online by clicking [here](http://cocl.us/DP0701EN_Coursera_Week3_LAB2)."
   ]
  },
  {
   "cell_type": "markdown",
   "metadata": {},
   "source": [
    "<hr>\n",
    "\n",
    "Copyright &copy; 2018 [Cognitive Class](https://cognitiveclass.ai/?utm_source=bducopyrightlink&utm_medium=dswb&utm_campaign=bdu). This notebook and its source code are released under the terms of the [MIT License](https://bigdatauniversity.com/mit-license/)."
   ]
  }
 ],
 "metadata": {
  "kernelspec": {
   "display_name": "Python 3",
   "language": "python",
   "name": "python3"
  },
  "language_info": {
   "codemirror_mode": {
    "name": "ipython",
    "version": 3
   },
   "file_extension": ".py",
   "mimetype": "text/x-python",
   "name": "python",
   "nbconvert_exporter": "python",
   "pygments_lexer": "ipython3",
   "version": "3.6.8"
  },
  "widgets": {
   "state": {},
   "version": "1.1.2"
  }
 },
 "nbformat": 4,
 "nbformat_minor": 2
}
